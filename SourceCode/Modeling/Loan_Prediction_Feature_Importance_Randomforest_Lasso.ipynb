{
 "cells": [
  {
   "cell_type": "code",
   "execution_count": 53,
   "metadata": {},
   "outputs": [],
   "source": [
    "import pandas as pd\n",
    "import numpy as np\n",
    "from sklearn.linear_model import LogisticRegression\n",
    "from sklearn import linear_model\n",
    "from sklearn.model_selection import train_test_split\n",
    "from sklearn.metrics import confusion_matrix\n",
    "from imblearn.over_sampling import SMOTE\n",
    "from sklearn.metrics import recall_score\n",
    "from sklearn.metrics import precision_score\n",
    "from sklearn.ensemble import RandomForestClassifier\n",
    "from sklearn.metrics import accuracy_score\n",
    "from sklearn.naive_bayes import GaussianNB\n",
    "from sklearn.svm import SVC  \n",
    "from sklearn.ensemble import AdaBoostClassifier\n",
    "from sklearn.tree import DecisionTreeClassifier\n",
    "from sklearn.preprocessing import StandardScaler\n",
    "import matplotlib.pyplot as plt\n",
    "\n",
    "from sklearn.discriminant_analysis import LinearDiscriminantAnalysis"
   ]
  },
  {
   "cell_type": "code",
   "execution_count": 36,
   "metadata": {},
   "outputs": [],
   "source": [
    "dataset = pd.read_csv(r\"sample_clean.csv\")"
   ]
  },
  {
   "cell_type": "code",
   "execution_count": 37,
   "metadata": {},
   "outputs": [],
   "source": [
    "df=dataset.copy()"
   ]
  },
  {
   "cell_type": "code",
   "execution_count": 38,
   "metadata": {},
   "outputs": [
    {
     "data": {
      "text/plain": [
       "(1689504, 48)"
      ]
     },
     "execution_count": 38,
     "metadata": {},
     "output_type": "execute_result"
    }
   ],
   "source": [
    "dataset.shape"
   ]
  },
  {
   "cell_type": "code",
   "execution_count": 39,
   "metadata": {},
   "outputs": [
    {
     "data": {
      "text/html": [
       "<div>\n",
       "<style scoped>\n",
       "    .dataframe tbody tr th:only-of-type {\n",
       "        vertical-align: middle;\n",
       "    }\n",
       "\n",
       "    .dataframe tbody tr th {\n",
       "        vertical-align: top;\n",
       "    }\n",
       "\n",
       "    .dataframe thead th {\n",
       "        text-align: right;\n",
       "    }\n",
       "</style>\n",
       "<table border=\"1\" class=\"dataframe\">\n",
       "  <thead>\n",
       "    <tr style=\"text-align: right;\">\n",
       "      <th></th>\n",
       "      <th>lei</th>\n",
       "      <th>derived_msa_md</th>\n",
       "      <th>state_code</th>\n",
       "      <th>county_code</th>\n",
       "      <th>derived_loan_product_type</th>\n",
       "      <th>derived_dwelling_category</th>\n",
       "      <th>derived_ethnicity</th>\n",
       "      <th>derived_race</th>\n",
       "      <th>derived_sex</th>\n",
       "      <th>action_taken</th>\n",
       "      <th>...</th>\n",
       "      <th>applicant_age_above_62</th>\n",
       "      <th>submission_of_application</th>\n",
       "      <th>aus_1</th>\n",
       "      <th>tract_population</th>\n",
       "      <th>tract_minority_population_percent</th>\n",
       "      <th>ffiec_msa_md_median_family_income</th>\n",
       "      <th>tract_to_msa_income_percentage</th>\n",
       "      <th>tract_owner_occupied_units</th>\n",
       "      <th>tract_one_to_four_family_homes</th>\n",
       "      <th>tract_median_age_of_housing_units</th>\n",
       "    </tr>\n",
       "  </thead>\n",
       "  <tbody>\n",
       "    <tr>\n",
       "      <th>0</th>\n",
       "      <td>0</td>\n",
       "      <td>14260</td>\n",
       "      <td>0</td>\n",
       "      <td>0</td>\n",
       "      <td>0</td>\n",
       "      <td>0</td>\n",
       "      <td>0</td>\n",
       "      <td>0</td>\n",
       "      <td>0</td>\n",
       "      <td>1</td>\n",
       "      <td>...</td>\n",
       "      <td>0</td>\n",
       "      <td>1</td>\n",
       "      <td>1</td>\n",
       "      <td>4030</td>\n",
       "      <td>33.90</td>\n",
       "      <td>69600</td>\n",
       "      <td>68</td>\n",
       "      <td>1083</td>\n",
       "      <td>1528</td>\n",
       "      <td>43</td>\n",
       "    </tr>\n",
       "    <tr>\n",
       "      <th>1</th>\n",
       "      <td>1</td>\n",
       "      <td>12580</td>\n",
       "      <td>1</td>\n",
       "      <td>1</td>\n",
       "      <td>1</td>\n",
       "      <td>0</td>\n",
       "      <td>1</td>\n",
       "      <td>0</td>\n",
       "      <td>1</td>\n",
       "      <td>1</td>\n",
       "      <td>...</td>\n",
       "      <td>1</td>\n",
       "      <td>2</td>\n",
       "      <td>1</td>\n",
       "      <td>8694</td>\n",
       "      <td>42.90</td>\n",
       "      <td>94900</td>\n",
       "      <td>94</td>\n",
       "      <td>2443</td>\n",
       "      <td>3199</td>\n",
       "      <td>19</td>\n",
       "    </tr>\n",
       "    <tr>\n",
       "      <th>2</th>\n",
       "      <td>2</td>\n",
       "      <td>19740</td>\n",
       "      <td>2</td>\n",
       "      <td>2</td>\n",
       "      <td>0</td>\n",
       "      <td>0</td>\n",
       "      <td>1</td>\n",
       "      <td>1</td>\n",
       "      <td>0</td>\n",
       "      <td>1</td>\n",
       "      <td>...</td>\n",
       "      <td>0</td>\n",
       "      <td>1</td>\n",
       "      <td>1</td>\n",
       "      <td>4406</td>\n",
       "      <td>20.13</td>\n",
       "      <td>89900</td>\n",
       "      <td>134</td>\n",
       "      <td>1358</td>\n",
       "      <td>1815</td>\n",
       "      <td>68</td>\n",
       "    </tr>\n",
       "    <tr>\n",
       "      <th>3</th>\n",
       "      <td>0</td>\n",
       "      <td>19660</td>\n",
       "      <td>3</td>\n",
       "      <td>3</td>\n",
       "      <td>0</td>\n",
       "      <td>0</td>\n",
       "      <td>1</td>\n",
       "      <td>0</td>\n",
       "      <td>0</td>\n",
       "      <td>1</td>\n",
       "      <td>...</td>\n",
       "      <td>1</td>\n",
       "      <td>1</td>\n",
       "      <td>2</td>\n",
       "      <td>3853</td>\n",
       "      <td>6.67</td>\n",
       "      <td>55700</td>\n",
       "      <td>106</td>\n",
       "      <td>1241</td>\n",
       "      <td>1649</td>\n",
       "      <td>30</td>\n",
       "    </tr>\n",
       "    <tr>\n",
       "      <th>4</th>\n",
       "      <td>3</td>\n",
       "      <td>35614</td>\n",
       "      <td>4</td>\n",
       "      <td>4</td>\n",
       "      <td>2</td>\n",
       "      <td>0</td>\n",
       "      <td>1</td>\n",
       "      <td>0</td>\n",
       "      <td>0</td>\n",
       "      <td>1</td>\n",
       "      <td>...</td>\n",
       "      <td>0</td>\n",
       "      <td>1</td>\n",
       "      <td>6</td>\n",
       "      <td>6197</td>\n",
       "      <td>13.80</td>\n",
       "      <td>78000</td>\n",
       "      <td>183</td>\n",
       "      <td>1817</td>\n",
       "      <td>1871</td>\n",
       "      <td>48</td>\n",
       "    </tr>\n",
       "  </tbody>\n",
       "</table>\n",
       "<p>5 rows × 48 columns</p>\n",
       "</div>"
      ],
      "text/plain": [
       "   lei  derived_msa_md  state_code  county_code  derived_loan_product_type  \\\n",
       "0    0           14260           0            0                          0   \n",
       "1    1           12580           1            1                          1   \n",
       "2    2           19740           2            2                          0   \n",
       "3    0           19660           3            3                          0   \n",
       "4    3           35614           4            4                          2   \n",
       "\n",
       "   derived_dwelling_category  derived_ethnicity  derived_race  derived_sex  \\\n",
       "0                          0                  0             0            0   \n",
       "1                          0                  1             0            1   \n",
       "2                          0                  1             1            0   \n",
       "3                          0                  1             0            0   \n",
       "4                          0                  1             0            0   \n",
       "\n",
       "   action_taken  ...  applicant_age_above_62  submission_of_application  \\\n",
       "0             1  ...                       0                          1   \n",
       "1             1  ...                       1                          2   \n",
       "2             1  ...                       0                          1   \n",
       "3             1  ...                       1                          1   \n",
       "4             1  ...                       0                          1   \n",
       "\n",
       "   aus_1  tract_population  tract_minority_population_percent  \\\n",
       "0      1              4030                              33.90   \n",
       "1      1              8694                              42.90   \n",
       "2      1              4406                              20.13   \n",
       "3      2              3853                               6.67   \n",
       "4      6              6197                              13.80   \n",
       "\n",
       "   ffiec_msa_md_median_family_income  tract_to_msa_income_percentage  \\\n",
       "0                              69600                              68   \n",
       "1                              94900                              94   \n",
       "2                              89900                             134   \n",
       "3                              55700                             106   \n",
       "4                              78000                             183   \n",
       "\n",
       "   tract_owner_occupied_units  tract_one_to_four_family_homes  \\\n",
       "0                        1083                            1528   \n",
       "1                        2443                            3199   \n",
       "2                        1358                            1815   \n",
       "3                        1241                            1649   \n",
       "4                        1817                            1871   \n",
       "\n",
       "   tract_median_age_of_housing_units  \n",
       "0                                 43  \n",
       "1                                 19  \n",
       "2                                 68  \n",
       "3                                 30  \n",
       "4                                 48  \n",
       "\n",
       "[5 rows x 48 columns]"
      ]
     },
     "execution_count": 39,
     "metadata": {},
     "output_type": "execute_result"
    }
   ],
   "source": [
    "dataset.head()"
   ]
  },
  {
   "cell_type": "markdown",
   "metadata": {},
   "source": [
    "### UnderSampling "
   ]
  },
  {
   "cell_type": "code",
   "execution_count": 40,
   "metadata": {},
   "outputs": [
    {
     "data": {
      "text/plain": [
       "<matplotlib.axes._subplots.AxesSubplot at 0x1a468f8630>"
      ]
     },
     "execution_count": 40,
     "metadata": {},
     "output_type": "execute_result"
    },
    {
     "data": {
      "image/png": "[encoded data removed]",
      "text/plain": [
       "<Figure size 432x288 with 1 Axes>"
      ]
     },
     "metadata": {
      "needs_background": "light"
     },
     "output_type": "display_data"
    }
   ],
   "source": [
    "df.action_taken.value_counts().plot(kind='bar', title='Count of Action Taken ')"
   ]
  },
  {
   "cell_type": "code",
   "execution_count": 41,
   "metadata": {},
   "outputs": [],
   "source": [
    "loan = len(df[df['action_taken'] == 0])\n",
    "no_loan =  df[df.action_taken == 1].index"
   ]
  },
  {
   "cell_type": "code",
   "execution_count": 42,
   "metadata": {},
   "outputs": [],
   "source": [
    "random_indices = np.random.choice(no_loan,loan, replace=False)\n",
    "loan_in = df[df.action_taken == 0].index"
   ]
  },
  {
   "cell_type": "code",
   "execution_count": 43,
   "metadata": {},
   "outputs": [],
   "source": [
    "under_sample_indices = np.concatenate([loan_in,random_indices])\n",
    "under_sample = df.loc[under_sample_indices]"
   ]
  },
  {
   "cell_type": "code",
   "execution_count": 44,
   "metadata": {},
   "outputs": [
    {
     "data": {
      "text/plain": [
       "(22674, 48)"
      ]
     },
     "execution_count": 44,
     "metadata": {},
     "output_type": "execute_result"
    }
   ],
   "source": [
    "under_sample.shape"
   ]
  },
  {
   "cell_type": "code",
   "execution_count": 45,
   "metadata": {},
   "outputs": [],
   "source": [
    "X = under_sample.drop('action_taken',axis=1)\n",
    "Y = under_sample['action_taken']\n",
    "X_train, X_test, Y_train, Y_test = train_test_split(X, Y, test_size=0.25) "
   ]
  },
  {
   "cell_type": "code",
   "execution_count": 46,
   "metadata": {},
   "outputs": [
    {
     "data": {
      "text/plain": [
       "Index(['lei', 'derived_msa_md', 'state_code', 'county_code',\n",
       "       'derived_loan_product_type', 'derived_dwelling_category',\n",
       "       'derived_ethnicity', 'derived_race', 'derived_sex', 'purchaser_type',\n",
       "       'preapproval', 'loan_type', 'loan_purpose', 'lien_status',\n",
       "       'reverse_mortgage', 'open_end_line_of_credit',\n",
       "       'business_or_commercial_purpose', 'loan_amount', 'loan_to_value_ratio',\n",
       "       'loan_term', 'property_value', 'construction_method', 'occupancy_type',\n",
       "       'manufactured_home_secured_property_type',\n",
       "       'manufactured_home_land_property_interest', 'total_units', 'income',\n",
       "       'debt_to_income_ratio', 'applicant_credit_score_type',\n",
       "       'co_applicant_credit_score_type', 'applicant_ethnicity_1',\n",
       "       'co_applicant_ethnicity_1', 'applicant_race_1', 'co_applicant_race_1',\n",
       "       'applicant_sex', 'co_applicant_sex', 'applicant_age',\n",
       "       'applicant_age_above_62', 'submission_of_application', 'aus_1',\n",
       "       'tract_population', 'tract_minority_population_percent',\n",
       "       'ffiec_msa_md_median_family_income', 'tract_to_msa_income_percentage',\n",
       "       'tract_owner_occupied_units', 'tract_one_to_four_family_homes',\n",
       "       'tract_median_age_of_housing_units'],\n",
       "      dtype='object')"
      ]
     },
     "execution_count": 46,
     "metadata": {},
     "output_type": "execute_result"
    }
   ],
   "source": [
    "X_train.columns"
   ]
  },
  {
   "cell_type": "code",
   "execution_count": 47,
   "metadata": {
    "scrolled": true
   },
   "outputs": [
    {
     "data": {
      "image/png": "[encoded data removed]",
      "text/plain": [
       "<Figure size 432x288 with 1 Axes>"
      ]
     },
     "metadata": {
      "needs_background": "light"
     },
     "output_type": "display_data"
    }
   ],
   "source": [
    "under_sample.action_taken.value_counts().plot(kind='bar', title='Undersampling Count');"
   ]
  },
  {
   "cell_type": "code",
   "execution_count": 48,
   "metadata": {},
   "outputs": [
    {
     "data": {
      "text/html": [
       "<div>\n",
       "<style scoped>\n",
       "    .dataframe tbody tr th:only-of-type {\n",
       "        vertical-align: middle;\n",
       "    }\n",
       "\n",
       "    .dataframe tbody tr th {\n",
       "        vertical-align: top;\n",
       "    }\n",
       "\n",
       "    .dataframe thead th {\n",
       "        text-align: right;\n",
       "    }\n",
       "</style>\n",
       "<table border=\"1\" class=\"dataframe\">\n",
       "  <thead>\n",
       "    <tr style=\"text-align: right;\">\n",
       "      <th></th>\n",
       "      <th>lei</th>\n",
       "      <th>derived_msa_md</th>\n",
       "      <th>state_code</th>\n",
       "      <th>county_code</th>\n",
       "      <th>derived_loan_product_type</th>\n",
       "      <th>derived_dwelling_category</th>\n",
       "      <th>derived_ethnicity</th>\n",
       "      <th>derived_race</th>\n",
       "      <th>derived_sex</th>\n",
       "      <th>action_taken</th>\n",
       "      <th>...</th>\n",
       "      <th>applicant_age_above_62</th>\n",
       "      <th>submission_of_application</th>\n",
       "      <th>aus_1</th>\n",
       "      <th>tract_population</th>\n",
       "      <th>tract_minority_population_percent</th>\n",
       "      <th>ffiec_msa_md_median_family_income</th>\n",
       "      <th>tract_to_msa_income_percentage</th>\n",
       "      <th>tract_owner_occupied_units</th>\n",
       "      <th>tract_one_to_four_family_homes</th>\n",
       "      <th>tract_median_age_of_housing_units</th>\n",
       "    </tr>\n",
       "  </thead>\n",
       "  <tbody>\n",
       "    <tr>\n",
       "      <th>46</th>\n",
       "      <td>39</td>\n",
       "      <td>99999</td>\n",
       "      <td>23</td>\n",
       "      <td>42</td>\n",
       "      <td>0</td>\n",
       "      <td>1</td>\n",
       "      <td>1</td>\n",
       "      <td>0</td>\n",
       "      <td>2</td>\n",
       "      <td>0</td>\n",
       "      <td>...</td>\n",
       "      <td>0</td>\n",
       "      <td>1111</td>\n",
       "      <td>1111</td>\n",
       "      <td>2398</td>\n",
       "      <td>20.39</td>\n",
       "      <td>54700</td>\n",
       "      <td>120</td>\n",
       "      <td>400</td>\n",
       "      <td>716</td>\n",
       "      <td>42</td>\n",
       "    </tr>\n",
       "    <tr>\n",
       "      <th>787</th>\n",
       "      <td>376</td>\n",
       "      <td>31084</td>\n",
       "      <td>9</td>\n",
       "      <td>18</td>\n",
       "      <td>0</td>\n",
       "      <td>1</td>\n",
       "      <td>1</td>\n",
       "      <td>3</td>\n",
       "      <td>1</td>\n",
       "      <td>0</td>\n",
       "      <td>...</td>\n",
       "      <td>0</td>\n",
       "      <td>1111</td>\n",
       "      <td>1111</td>\n",
       "      <td>3852</td>\n",
       "      <td>67.99</td>\n",
       "      <td>69300</td>\n",
       "      <td>136</td>\n",
       "      <td>1318</td>\n",
       "      <td>1538</td>\n",
       "      <td>46</td>\n",
       "    </tr>\n",
       "    <tr>\n",
       "      <th>797</th>\n",
       "      <td>380</td>\n",
       "      <td>23104</td>\n",
       "      <td>5</td>\n",
       "      <td>321</td>\n",
       "      <td>0</td>\n",
       "      <td>0</td>\n",
       "      <td>0</td>\n",
       "      <td>0</td>\n",
       "      <td>0</td>\n",
       "      <td>0</td>\n",
       "      <td>...</td>\n",
       "      <td>0</td>\n",
       "      <td>1111</td>\n",
       "      <td>1111</td>\n",
       "      <td>5143</td>\n",
       "      <td>15.79</td>\n",
       "      <td>75000</td>\n",
       "      <td>107</td>\n",
       "      <td>1554</td>\n",
       "      <td>1908</td>\n",
       "      <td>25</td>\n",
       "    </tr>\n",
       "    <tr>\n",
       "      <th>949</th>\n",
       "      <td>437</td>\n",
       "      <td>35614</td>\n",
       "      <td>4</td>\n",
       "      <td>246</td>\n",
       "      <td>0</td>\n",
       "      <td>0</td>\n",
       "      <td>1</td>\n",
       "      <td>0</td>\n",
       "      <td>0</td>\n",
       "      <td>0</td>\n",
       "      <td>...</td>\n",
       "      <td>0</td>\n",
       "      <td>1111</td>\n",
       "      <td>1111</td>\n",
       "      <td>1157</td>\n",
       "      <td>2.85</td>\n",
       "      <td>78000</td>\n",
       "      <td>140</td>\n",
       "      <td>647</td>\n",
       "      <td>3880</td>\n",
       "      <td>56</td>\n",
       "    </tr>\n",
       "    <tr>\n",
       "      <th>1805</th>\n",
       "      <td>660</td>\n",
       "      <td>99999</td>\n",
       "      <td>35</td>\n",
       "      <td>286</td>\n",
       "      <td>2</td>\n",
       "      <td>0</td>\n",
       "      <td>1</td>\n",
       "      <td>0</td>\n",
       "      <td>2</td>\n",
       "      <td>0</td>\n",
       "      <td>...</td>\n",
       "      <td>0</td>\n",
       "      <td>1111</td>\n",
       "      <td>1111</td>\n",
       "      <td>3698</td>\n",
       "      <td>18.88</td>\n",
       "      <td>69500</td>\n",
       "      <td>98</td>\n",
       "      <td>1081</td>\n",
       "      <td>1396</td>\n",
       "      <td>62</td>\n",
       "    </tr>\n",
       "  </tbody>\n",
       "</table>\n",
       "<p>5 rows × 48 columns</p>\n",
       "</div>"
      ],
      "text/plain": [
       "      lei  derived_msa_md  state_code  county_code  derived_loan_product_type  \\\n",
       "46     39           99999          23           42                          0   \n",
       "787   376           31084           9           18                          0   \n",
       "797   380           23104           5          321                          0   \n",
       "949   437           35614           4          246                          0   \n",
       "1805  660           99999          35          286                          2   \n",
       "\n",
       "      derived_dwelling_category  derived_ethnicity  derived_race  derived_sex  \\\n",
       "46                            1                  1             0            2   \n",
       "787                           1                  1             3            1   \n",
       "797                           0                  0             0            0   \n",
       "949                           0                  1             0            0   \n",
       "1805                          0                  1             0            2   \n",
       "\n",
       "      action_taken  ...  applicant_age_above_62  submission_of_application  \\\n",
       "46               0  ...                       0                       1111   \n",
       "787              0  ...                       0                       1111   \n",
       "797              0  ...                       0                       1111   \n",
       "949              0  ...                       0                       1111   \n",
       "1805             0  ...                       0                       1111   \n",
       "\n",
       "      aus_1  tract_population  tract_minority_population_percent  \\\n",
       "46     1111              2398                              20.39   \n",
       "787    1111              3852                              67.99   \n",
       "797    1111              5143                              15.79   \n",
       "949    1111              1157                               2.85   \n",
       "1805   1111              3698                              18.88   \n",
       "\n",
       "      ffiec_msa_md_median_family_income  tract_to_msa_income_percentage  \\\n",
       "46                                54700                             120   \n",
       "787                               69300                             136   \n",
       "797                               75000                             107   \n",
       "949                               78000                             140   \n",
       "1805                              69500                              98   \n",
       "\n",
       "      tract_owner_occupied_units  tract_one_to_four_family_homes  \\\n",
       "46                           400                             716   \n",
       "787                         1318                            1538   \n",
       "797                         1554                            1908   \n",
       "949                          647                            3880   \n",
       "1805                        1081                            1396   \n",
       "\n",
       "      tract_median_age_of_housing_units  \n",
       "46                                   42  \n",
       "787                                  46  \n",
       "797                                  25  \n",
       "949                                  56  \n",
       "1805                                 62  \n",
       "\n",
       "[5 rows x 48 columns]"
      ]
     },
     "execution_count": 48,
     "metadata": {},
     "output_type": "execute_result"
    }
   ],
   "source": [
    "under_sample.head()"
   ]
  },
  {
   "cell_type": "code",
   "execution_count": 49,
   "metadata": {
    "scrolled": true
   },
   "outputs": [
    {
     "data": {
      "text/plain": [
       "1    11337\n",
       "0    11337\n",
       "Name: action_taken, dtype: int64"
      ]
     },
     "execution_count": 49,
     "metadata": {},
     "output_type": "execute_result"
    }
   ],
   "source": [
    "under_sample['action_taken'].value_counts()"
   ]
  },
  {
   "cell_type": "code",
   "execution_count": 50,
   "metadata": {},
   "outputs": [],
   "source": [
    "sc = StandardScaler()\n",
    "x_train = sc.fit_transform(X_train)\n",
    "X_test = sc.transform(X_test)"
   ]
  },
  {
   "cell_type": "markdown",
   "metadata": {},
   "source": [
    "### Random Forest"
   ]
  },
  {
   "cell_type": "markdown",
   "metadata": {},
   "source": [
    "### Random Forest "
   ]
  },
  {
   "cell_type": "code",
   "execution_count": 51,
   "metadata": {},
   "outputs": [],
   "source": [
    "rand_class_smote = RandomForestClassifier(n_estimators = 8,random_state=2)\n",
    "rand_class_smote.fit(x_train, Y_train)\n",
    "y_pred_smote = rand_class_smote.predict(X_test)\n",
    "y_pred_train_smote = rand_class_smote.predict(x_train)"
   ]
  },
  {
   "cell_type": "code",
   "execution_count": 54,
   "metadata": {},
   "outputs": [
    {
     "data": {
      "text/plain": [
       "Text(0.5, 1.0, 'Features importance')"
      ]
     },
     "execution_count": 54,
     "metadata": {},
     "output_type": "execute_result"
    },
    {
     "data": {
      "image/png": "[encoded data removed]",
      "text/plain": [
       "<Figure size 720x288 with 1 Axes>"
      ]
     },
     "metadata": {
      "needs_background": "light"
     },
     "output_type": "display_data"
    }
   ],
   "source": [
    "fet_ind = np.argsort(rand_class_smote.feature_importances_)[::-1]\n",
    "fet_imp = rand_class_smote.feature_importances_[fet_ind]\n",
    "fig, ax = plt.subplots(1, 1, figsize=(10, 4))\n",
    "labels = X_train.columns[fet_ind]\n",
    "pd.Series(fet_imp, index=labels).plot('bar', ax=ax)\n",
    "ax.set_title('Features importance')\n"
   ]
  },
  {
   "cell_type": "markdown",
   "metadata": {},
   "source": [
    "### Lasso Regression"
   ]
  },
  {
   "cell_type": "code",
   "execution_count": 57,
   "metadata": {},
   "outputs": [
    {
     "name": "stderr",
     "output_type": "stream",
     "text": [
      "//anaconda3/lib/python3.7/site-packages/sklearn/linear_model/logistic.py:432: FutureWarning: Default solver will be changed to 'lbfgs' in 0.22. Specify a solver to silence this warning.\n",
      "  FutureWarning)\n"
     ]
    }
   ],
   "source": [
    "log_reg = LogisticRegression(penalty='l2')\n",
    "log_reg.fit(x_train, Y_train)\n",
    "y_pred_log = log_reg.predict(X_test)\n",
    "y_pred_train_log = log_reg.predict(x_train)"
   ]
  },
  {
   "cell_type": "code",
   "execution_count": null,
   "metadata": {},
   "outputs": [],
   "source": []
  },
  {
   "cell_type": "code",
   "execution_count": null,
   "metadata": {},
   "outputs": [],
   "source": []
  }
 ],
 "metadata": {
  "kernelspec": {
   "display_name": "Python 3",
   "language": "python",
   "name": "python3"
  },
  "language_info": {
   "codemirror_mode": {
    "name": "ipython",
    "version": 3
   },
   "file_extension": ".py",
   "mimetype": "text/x-python",
   "name": "python",
   "nbconvert_exporter": "python",
   "pygments_lexer": "ipython3",
   "version": "3.7.3"
  }
 },
 "nbformat": 4,
 "nbformat_minor": 2
}
