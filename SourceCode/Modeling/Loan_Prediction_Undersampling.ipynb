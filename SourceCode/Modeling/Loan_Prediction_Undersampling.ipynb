{
 "cells": [
  {
   "cell_type": "code",
   "execution_count": 2,
   "metadata": {},
   "outputs": [
    {
     "name": "stderr",
     "output_type": "stream",
     "text": [
      "Using TensorFlow backend.\n"
     ]
    }
   ],
   "source": [
    "import pandas as pd\n",
    "import numpy as np\n",
    "from sklearn.linear_model import LogisticRegression\n",
    "from sklearn import linear_model\n",
    "from sklearn.model_selection import train_test_split\n",
    "from sklearn.metrics import confusion_matrix\n",
    "from imblearn.over_sampling import SMOTE\n",
    "from sklearn.metrics import recall_score\n",
    "from sklearn.metrics import precision_score\n",
    "from sklearn.ensemble import RandomForestClassifier\n",
    "from sklearn.metrics import accuracy_score\n",
    "from sklearn.naive_bayes import GaussianNB\n",
    "from sklearn.svm import SVC  \n",
    "from sklearn.ensemble import AdaBoostClassifier\n",
    "from sklearn.tree import DecisionTreeClassifier\n",
    "from sklearn.preprocessing import StandardScaler\n",
    "from sklearn.discriminant_analysis import LinearDiscriminantAnalysis\n",
    "from sklearn.metrics import precision_recall_curve\n",
    "from sklearn.metrics import average_precision_score\n"
   ]
  },
  {
   "cell_type": "code",
   "execution_count": 3,
   "metadata": {},
   "outputs": [],
   "source": [
    "dataset = pd.read_csv(r\"sample_clean.csv\")"
   ]
  },
  {
   "cell_type": "code",
   "execution_count": 4,
   "metadata": {},
   "outputs": [],
   "source": [
    "df=dataset.copy()"
   ]
  },
  {
   "cell_type": "code",
   "execution_count": 5,
   "metadata": {},
   "outputs": [
    {
     "data": {
      "text/plain": [
       "(22674, 48)"
      ]
     },
     "execution_count": 5,
     "metadata": {},
     "output_type": "execute_result"
    }
   ],
   "source": [
    "loan = len(df[df['action_taken'] == 0])\n",
    "no_loan =  df[df.action_taken == 1].index\n",
    "random_indices = np.random.choice(no_loan,loan, replace=False)\n",
    "loan_in = df[df.action_taken == 0].index\n",
    "under_sample_indices = np.concatenate([loan_in,random_indices])\n",
    "under_sample = df.loc[under_sample_indices]\n",
    "under_sample.shape\n",
    "\n"
   ]
  },
  {
   "cell_type": "code",
   "execution_count": 6,
   "metadata": {},
   "outputs": [],
   "source": [
    "X = under_sample.drop('action_taken',axis=1)\n",
    "Y = under_sample['action_taken']\n",
    "X_train, X_test, y_train, Y_test = train_test_split(X, Y, test_size=0.25) "
   ]
  },
  {
   "cell_type": "code",
   "execution_count": 7,
   "metadata": {},
   "outputs": [
    {
     "data": {
      "text/plain": [
       "1    11337\n",
       "0    11337\n",
       "Name: action_taken, dtype: int64"
      ]
     },
     "execution_count": 7,
     "metadata": {},
     "output_type": "execute_result"
    }
   ],
   "source": [
    "under_sample['action_taken'].value_counts()"
   ]
  },
  {
   "cell_type": "markdown",
   "metadata": {},
   "source": [
    "### Standadization"
   ]
  },
  {
   "cell_type": "code",
   "execution_count": 8,
   "metadata": {},
   "outputs": [],
   "source": [
    "sc = StandardScaler()\n",
    "x_train = sc.fit_transform(X_train)\n",
    "X_test = sc.transform(X_test)"
   ]
  },
  {
   "cell_type": "markdown",
   "metadata": {},
   "source": [
    "### Random Forest  "
   ]
  },
  {
   "cell_type": "code",
   "execution_count": 84,
   "metadata": {},
   "outputs": [],
   "source": [
    "rand_class_smote = RandomForestClassifier(n_estimators = 50,random_state=2)\n",
    "rand_class_smote.fit(x_train, y_train)\n",
    "y_pred_smote = rand_class_smote.predict(X_test)\n",
    "y_pred_train_smote = rand_class_smote.predict(x_train)"
   ]
  },
  {
   "cell_type": "code",
   "execution_count": 96,
   "metadata": {},
   "outputs": [
    {
     "name": "stdout",
     "output_type": "stream",
     "text": [
      "Accuracy 0.984653378020815\n",
      "Precision of 0: 0.9701803051317615\n",
      "Precision of 1: 0.999640933572711\n",
      "\n",
      "\n",
      "Recall of 0: 0.9996427295462665\n",
      "Recall of 1: 0.9700348432055749\n"
     ]
    }
   ],
   "source": [
    "print('Accuracy',accuracy_score(Y_test,y_pred_smote))\n",
    "print('Precision of 0:',precision_score(Y_test,y_pred_smote,pos_label=0))\n",
    "print('Precision of 1:',precision_score(Y_test,y_pred_smote,pos_label=1))\n",
    "print('\\n')\n",
    "print('Recall of 0:',recall_score(Y_test,y_pred_smote,pos_label=0))\n",
    "print('Recall of 1:',recall_score(Y_test,y_pred_smote,pos_label=1))\n"
   ]
  },
  {
   "cell_type": "code",
   "execution_count": 87,
   "metadata": {},
   "outputs": [
    {
     "name": "stdout",
     "output_type": "stream",
     "text": [
      "              precision    recall  f1-score   support\n",
      "\n",
      "           0       0.97      1.00      0.98      2799\n",
      "           1       1.00      0.97      0.98      2870\n",
      "\n",
      "    accuracy                           0.98      5669\n",
      "   macro avg       0.98      0.98      0.98      5669\n",
      "weighted avg       0.99      0.98      0.98      5669\n",
      "\n"
     ]
    }
   ],
   "source": [
    "from sklearn.metrics import classification_report\n",
    "print(classification_report(Y_test,y_pred_smote))"
   ]
  },
  {
   "cell_type": "code",
   "execution_count": 88,
   "metadata": {},
   "outputs": [
    {
     "name": "stdout",
     "output_type": "stream",
     "text": [
      "[[2798    1]\n",
      " [  86 2784]]\n"
     ]
    },
    {
     "data": {
      "image/png": "[encoded data removed]",
      "text/plain": [
       "<Figure size 432x288 with 2 Axes>"
      ]
     },
     "metadata": {
      "needs_background": "light"
     },
     "output_type": "display_data"
    }
   ],
   "source": [
    "conf_matrix = confusion_matrix(Y_test, y_pred_smote)\n",
    "plot_confusion_matrix(conf_matrix,cmap='tab10',colorbar=True)\n",
    "print(conf_matrix)"
   ]
  },
  {
   "cell_type": "markdown",
   "metadata": {},
   "source": [
    "### Logistic Regression"
   ]
  },
  {
   "cell_type": "code",
   "execution_count": 12,
   "metadata": {},
   "outputs": [
    {
     "name": "stderr",
     "output_type": "stream",
     "text": [
      "//anaconda3/lib/python3.7/site-packages/sklearn/linear_model/logistic.py:432: FutureWarning: Default solver will be changed to 'lbfgs' in 0.22. Specify a solver to silence this warning.\n",
      "  FutureWarning)\n"
     ]
    }
   ],
   "source": [
    "log_reg = LogisticRegression()\n",
    "log_reg.fit(x_train, y_train)\n",
    "y_pred_log = log_reg.predict(X_test)\n",
    "y_pred_train_log = log_reg.predict(x_train)"
   ]
  },
  {
   "cell_type": "code",
   "execution_count": 94,
   "metadata": {},
   "outputs": [
    {
     "name": "stdout",
     "output_type": "stream",
     "text": [
      "Accuracy 0.9820074087140589\n",
      "Precision of 0: 0.9664475959875476\n",
      "Precision of 1: 0.9982001439884809\n",
      "\n",
      "\n",
      "Recall of 0: 0.9982136477313326\n",
      "Recall of 1: 0.9662020905923345\n"
     ]
    }
   ],
   "source": [
    "print('Accuracy',accuracy_score(y_pred_log,Y_test))\n",
    "print('Precision of 0:',precision_score(Y_test,y_pred_log,pos_label=0))\n",
    "print('Precision of 1:',precision_score(Y_test,y_pred_log,pos_label=1))\n",
    "print('\\n')\n",
    "print('Recall of 0:',recall_score(Y_test,y_pred_log,pos_label=0))\n",
    "print('Recall of 1:',recall_score(Y_test,y_pred_log,pos_label=1))"
   ]
  },
  {
   "cell_type": "code",
   "execution_count": 92,
   "metadata": {},
   "outputs": [
    {
     "name": "stdout",
     "output_type": "stream",
     "text": [
      "              precision    recall  f1-score   support\n",
      "\n",
      "           0       0.97      1.00      0.98      2799\n",
      "           1       1.00      0.97      0.98      2870\n",
      "\n",
      "    accuracy                           0.98      5669\n",
      "   macro avg       0.98      0.98      0.98      5669\n",
      "weighted avg       0.98      0.98      0.98      5669\n",
      "\n"
     ]
    }
   ],
   "source": [
    "print(classification_report(Y_test,y_pred_log))"
   ]
  },
  {
   "cell_type": "code",
   "execution_count": 77,
   "metadata": {},
   "outputs": [
    {
     "name": "stdout",
     "output_type": "stream",
     "text": [
      "[[2794    5]\n",
      " [  97 2773]]\n"
     ]
    },
    {
     "data": {
      "image/png": "[encoded data removed]",
      "text/plain": [
       "<Figure size 432x288 with 2 Axes>"
      ]
     },
     "metadata": {
      "needs_background": "light"
     },
     "output_type": "display_data"
    }
   ],
   "source": [
    "conf_matrix = confusion_matrix(Y_test, y_pred_log)\n",
    "plot_confusion_matrix(conf_matrix,cmap='tab10',colorbar=True)\n",
    "print(conf_matrix)"
   ]
  },
  {
   "cell_type": "markdown",
   "metadata": {},
   "source": [
    "### Naive Bayes"
   ]
  },
  {
   "cell_type": "code",
   "execution_count": 15,
   "metadata": {},
   "outputs": [],
   "source": [
    "naive_bayes = GaussianNB()\n",
    "naive_bayes.fit(x_train,y_train)\n",
    "y_pred_naive = naive_bayes.predict(X_test)\n",
    "y_pred_train_naive = naive_bayes.predict(x_train)"
   ]
  },
  {
   "cell_type": "code",
   "execution_count": 75,
   "metadata": {},
   "outputs": [
    {
     "name": "stdout",
     "output_type": "stream",
     "text": [
      "Accuracy 0.9744222967013583\n",
      "Precision of 0: 0.9719061166429588\n",
      "Precision of 1: 0.9768988449422471\n",
      "\n",
      "\n",
      "Recall of 0: 0.9764201500535906\n",
      "Recall of 1: 0.9724738675958188\n"
     ]
    }
   ],
   "source": [
    "print('Accuracy',accuracy_score(y_pred_naive,Y_test))\n",
    "print('Precision of 0:',precision_score(Y_test,y_pred_naive,pos_label=0))\n",
    "print('Precision of 1:',precision_score(Y_test,y_pred_naive,pos_label=1))\n",
    "print('\\n')\n",
    "print('Recall of 0:',recall_score(Y_test,y_pred_naive,pos_label=0))\n",
    "print('Recall of 1:',recall_score(Y_test,y_pred_naive,pos_label=1))\n"
   ]
  },
  {
   "cell_type": "code",
   "execution_count": 17,
   "metadata": {},
   "outputs": [
    {
     "name": "stdout",
     "output_type": "stream",
     "text": [
      "              precision    recall  f1-score   support\n",
      "\n",
      "           0       0.97      0.98      0.97      2799\n",
      "           1       0.98      0.97      0.97      2870\n",
      "\n",
      "    accuracy                           0.97      5669\n",
      "   macro avg       0.97      0.97      0.97      5669\n",
      "weighted avg       0.97      0.97      0.97      5669\n",
      "\n"
     ]
    }
   ],
   "source": [
    "print(classification_report(Y_test,y_pred_naive))"
   ]
  },
  {
   "cell_type": "code",
   "execution_count": 79,
   "metadata": {},
   "outputs": [
    {
     "name": "stdout",
     "output_type": "stream",
     "text": [
      "[[2733   66]\n",
      " [  79 2791]]\n"
     ]
    },
    {
     "data": {
      "image/png": "[encoded data removed]",
      "text/plain": [
       "<Figure size 432x288 with 2 Axes>"
      ]
     },
     "metadata": {
      "needs_background": "light"
     },
     "output_type": "display_data"
    }
   ],
   "source": [
    "conf_matrix = confusion_matrix(Y_test, y_pred_naive)\n",
    "plot_confusion_matrix(conf_matrix,cmap='tab10',colorbar=True)\n",
    "print(conf_matrix)"
   ]
  },
  {
   "cell_type": "markdown",
   "metadata": {},
   "source": [
    "### LDA"
   ]
  },
  {
   "cell_type": "code",
   "execution_count": 18,
   "metadata": {},
   "outputs": [
    {
     "name": "stderr",
     "output_type": "stream",
     "text": [
      "//anaconda3/lib/python3.7/site-packages/sklearn/discriminant_analysis.py:388: UserWarning: Variables are collinear.\n",
      "  warnings.warn(\"Variables are collinear.\")\n"
     ]
    }
   ],
   "source": [
    "lda = LinearDiscriminantAnalysis()\n",
    "lda.fit(x_train,y_train)\n",
    "y_pred_lda = lda.predict(X_test)\n",
    "y_pred_train_lda = lda.predict(x_train)"
   ]
  },
  {
   "cell_type": "code",
   "execution_count": 74,
   "metadata": {},
   "outputs": [
    {
     "name": "stdout",
     "output_type": "stream",
     "text": [
      "Accuracy 0.9798906332686541\n",
      "Precision of 0: 0.9618163054695562\n",
      "Precision of 1: 0.998913830557567\n",
      "\n",
      "\n",
      "Recall of 0: 0.9989281886387996\n",
      "Recall of 1: 0.9613240418118467\n"
     ]
    }
   ],
   "source": [
    "print('Accuracy',accuracy_score(y_pred_lda,Y_test))\n",
    "print('Precision of 0:',precision_score(Y_test,y_pred_lda,pos_label=0))\n",
    "print('Precision of 1:',precision_score(Y_test,y_pred_lda,pos_label=1))\n",
    "print('\\n')\n",
    "print('Recall of 0:',recall_score(Y_test,y_pred_lda,pos_label=0))\n",
    "print('Recall of 1:',recall_score(Y_test,y_pred_lda,pos_label=1))\n"
   ]
  },
  {
   "cell_type": "code",
   "execution_count": 20,
   "metadata": {},
   "outputs": [
    {
     "name": "stdout",
     "output_type": "stream",
     "text": [
      "              precision    recall  f1-score   support\n",
      "\n",
      "           0       0.96      1.00      0.98      2799\n",
      "           1       1.00      0.96      0.98      2870\n",
      "\n",
      "    accuracy                           0.98      5669\n",
      "   macro avg       0.98      0.98      0.98      5669\n",
      "weighted avg       0.98      0.98      0.98      5669\n",
      "\n"
     ]
    }
   ],
   "source": [
    "print(classification_report(Y_test,y_pred_lda))"
   ]
  },
  {
   "cell_type": "code",
   "execution_count": 80,
   "metadata": {},
   "outputs": [
    {
     "name": "stdout",
     "output_type": "stream",
     "text": [
      "[[2796    3]\n",
      " [ 111 2759]]\n"
     ]
    },
    {
     "data": {
      "image/png": "[encoded data removed]",
      "text/plain": [
       "<Figure size 432x288 with 2 Axes>"
      ]
     },
     "metadata": {
      "needs_background": "light"
     },
     "output_type": "display_data"
    }
   ],
   "source": [
    "conf_matrix = confusion_matrix(Y_test, y_pred_lda)\n",
    "plot_confusion_matrix(conf_matrix,cmap='tab10',colorbar=True)\n",
    "print(conf_matrix)"
   ]
  },
  {
   "cell_type": "markdown",
   "metadata": {},
   "source": [
    "### XG Boost"
   ]
  },
  {
   "cell_type": "code",
   "execution_count": 21,
   "metadata": {},
   "outputs": [],
   "source": [
    "from xgboost import XGBClassifier\n",
    "\n",
    "xg_boost = XGBClassifier()\n",
    "xg_boost.fit(x_train,y_train)\n",
    "y_pred_xg = xg_boost.predict(X_test)\n",
    "y_pred_xg_train = xg_boost.predict(x_train)"
   ]
  },
  {
   "cell_type": "code",
   "execution_count": 93,
   "metadata": {},
   "outputs": [
    {
     "name": "stdout",
     "output_type": "stream",
     "text": [
      "Accuracy 0.9848297759745986\n",
      "Precision of 0: 0.9701906412478336\n",
      "Precision of 1: 1.0\n",
      "\n",
      "\n",
      "Recall of 0: 1.0\n",
      "Recall of 1: 0.9700348432055749\n"
     ]
    }
   ],
   "source": [
    "print('Accuracy',accuracy_score(y_pred_xg,Y_test))\n",
    "\n",
    "print('Precision of 0:',precision_score(Y_test,y_pred_xg,pos_label=0))\n",
    "print('Precision of 1:',precision_score(Y_test,y_pred_xg,pos_label=1))\n",
    "print('\\n')\n",
    "print('Recall of 0:',recall_score(Y_test,y_pred_xg,pos_label=0))\n",
    "print('Recall of 1:',recall_score(Y_test,y_pred_xg,pos_label=1))\n",
    "\n"
   ]
  },
  {
   "cell_type": "code",
   "execution_count": 23,
   "metadata": {},
   "outputs": [
    {
     "name": "stdout",
     "output_type": "stream",
     "text": [
      "              precision    recall  f1-score   support\n",
      "\n",
      "           0       0.97      1.00      0.98      2799\n",
      "           1       1.00      0.97      0.98      2870\n",
      "\n",
      "    accuracy                           0.98      5669\n",
      "   macro avg       0.99      0.99      0.98      5669\n",
      "weighted avg       0.99      0.98      0.98      5669\n",
      "\n"
     ]
    }
   ],
   "source": [
    "print(classification_report(Y_test,y_pred_xg))"
   ]
  },
  {
   "cell_type": "code",
   "execution_count": 81,
   "metadata": {},
   "outputs": [
    {
     "name": "stdout",
     "output_type": "stream",
     "text": [
      "[[2799    0]\n",
      " [  86 2784]]\n"
     ]
    },
    {
     "data": {
      "image/png": "[encoded data removed]",
      "text/plain": [
       "<Figure size 432x288 with 2 Axes>"
      ]
     },
     "metadata": {
      "needs_background": "light"
     },
     "output_type": "display_data"
    }
   ],
   "source": [
    "conf_matrix = confusion_matrix(Y_test, y_pred_xg)\n",
    "plot_confusion_matrix(conf_matrix,cmap='tab10',colorbar=True)\n",
    "print(conf_matrix)"
   ]
  },
  {
   "cell_type": "markdown",
   "metadata": {},
   "source": [
    "### Adaboost"
   ]
  },
  {
   "cell_type": "code",
   "execution_count": 24,
   "metadata": {},
   "outputs": [],
   "source": [
    "ada_boost = AdaBoostClassifier(DecisionTreeClassifier(max_depth=10),n_estimators=12)\n",
    "ada_boost.fit(x_train, y_train)\n",
    "y_pred_ada = ada_boost.predict(X_test)\n",
    "y_pred_ada_train = ada_boost.predict(x_train)"
   ]
  },
  {
   "cell_type": "code",
   "execution_count": 97,
   "metadata": {},
   "outputs": [
    {
     "name": "stdout",
     "output_type": "stream",
     "text": [
      "Test\n",
      "Accuracy test 0.9804198271300053\n",
      "Precision of 0: 0.9666666666666667\n",
      "Precision of 1: 0.9946217282179993\n",
      "\n",
      "\n",
      "Recall of 0: 0.9946409431939979\n",
      "Recall of 1: 0.9665505226480836\n"
     ]
    }
   ],
   "source": [
    "print('Test')\n",
    "print('Accuracy test',accuracy_score(y_pred_ada,Y_test))\n",
    "print('Precision of 0:',precision_score(Y_test,y_pred_ada,pos_label=0))\n",
    "print('Precision of 1:',precision_score(Y_test,y_pred_ada,pos_label=1))\n",
    "print('\\n')\n",
    "print('Recall of 0:',recall_score(Y_test,y_pred_ada,pos_label=0))\n",
    "print('Recall of 1:',recall_score(Y_test,y_pred_ada,pos_label=1))"
   ]
  },
  {
   "cell_type": "code",
   "execution_count": 98,
   "metadata": {},
   "outputs": [
    {
     "name": "stdout",
     "output_type": "stream",
     "text": [
      "              precision    recall  f1-score   support\n",
      "\n",
      "           0       0.97      0.99      0.98      2799\n",
      "           1       0.99      0.97      0.98      2870\n",
      "\n",
      "    accuracy                           0.98      5669\n",
      "   macro avg       0.98      0.98      0.98      5669\n",
      "weighted avg       0.98      0.98      0.98      5669\n",
      "\n"
     ]
    }
   ],
   "source": [
    "print(classification_report(Y_test,y_pred_ada))"
   ]
  },
  {
   "cell_type": "code",
   "execution_count": 99,
   "metadata": {},
   "outputs": [
    {
     "name": "stdout",
     "output_type": "stream",
     "text": [
      "[[2784   15]\n",
      " [  96 2774]]\n"
     ]
    },
    {
     "data": {
      "image/png": "[encoded data removed]",
      "text/plain": [
       "<Figure size 432x288 with 2 Axes>"
      ]
     },
     "metadata": {
      "needs_background": "light"
     },
     "output_type": "display_data"
    }
   ],
   "source": [
    "conf_matrix = confusion_matrix(Y_test, y_pred_ada)\n",
    "plot_confusion_matrix(conf_matrix,cmap='tab10',colorbar=True)\n",
    "print(conf_matrix)"
   ]
  },
  {
   "cell_type": "code",
   "execution_count": 100,
   "metadata": {},
   "outputs": [
    {
     "name": "stdout",
     "output_type": "stream",
     "text": [
      "AUC for  Random Forest  =  0.9848387863759207\n",
      "AUC for  Logistic Regression  =  0.9822078691618336\n",
      "AUC for  Naive Bayes  =  0.9744470088247047\n",
      "AUC for  LDA  =  0.9801261152253231\n",
      "AUC for  XGBoost  =  0.9850174216027874\n",
      "AUC for  AdaBoost  =  0.9805957329210409\n"
     ]
    },
    {
     "data": {
      "image/png": "[encoded data removed]",
      "text/plain": [
       "<Figure size 432x288 with 1 Axes>"
      ]
     },
     "metadata": {
      "needs_background": "light"
     },
     "output_type": "display_data"
    }
   ],
   "source": [
    "from sklearn.metrics import roc_curve, auc\n",
    "import matplotlib.pyplot as plt\n",
    "\n",
    "classifier_predictions = [y_pred_smote,y_pred_log,y_pred_naive,y_pred_lda,y_pred_xg,y_pred_ada]\n",
    "classifier_names = [\"Random Forest\",\"Logistic Regression\",'Naive Bayes','LDA','XGBoost','AdaBoost']\n",
    "for i in range(len(classifier_predictions)):\n",
    "    fpr,tpr,thresholds = roc_curve(Y_test,classifier_predictions[i])\n",
    "    plt.plot(fpr,tpr,label= classifier_names[i])\n",
    "    plt.xlabel(\"False Positive Rate(FPR)\")\n",
    "    plt.ylabel(\"True Positive Rate(TPR)\")\n",
    "    plt.legend()\n",
    "    print(\"AUC for \",classifier_names[i],\" = \",auc(fpr,tpr))\n"
   ]
  },
  {
   "cell_type": "code",
   "execution_count": 44,
   "metadata": {},
   "outputs": [
    {
     "name": "stdout",
     "output_type": "stream",
     "text": [
      "Precision Recall score for  Random Forest  =  0.9824390544435836\n",
      "Precision Recall score for  Logistic Regression  =  0.9782384078629561\n",
      "Precision Recall score for  Naive Bayes  =  0.9712738298785305\n",
      "Precision Recall score for  LDA  =  0.9736868646029523\n",
      "Precision Recall score for  XGBoost  =  0.9824390544435836\n",
      "Precision Recall score for  AdaBoost  =  0.9691492545909338\n"
     ]
    },
    {
     "data": {
      "image/png": "[encoded data removed]",
      "text/plain": [
       "<Figure size 432x288 with 1 Axes>"
      ]
     },
     "metadata": {
      "needs_background": "light"
     },
     "output_type": "display_data"
    }
   ],
   "source": [
    "classifier_predictions = [y_pred_smote,y_pred_log,y_pred_naive,y_pred_lda,y_pred_xg,y_pred_ada]\n",
    "classifier_names = [\"Random Forest\",\"Logistic Regression\",'Naive Bayes','LDA','XGBoost','AdaBoost']\n",
    "\n",
    "for i in range(len(classifier_predictions)):\n",
    "    precision, recall, thresholds = precision_recall_curve(Y_test,classifier_predictions[i])\n",
    "    plt.plot(recall,precision,label= classifier_names[i])\n",
    "    plt.xlabel(\"Recall\")\n",
    "    plt.ylabel(\"Precision\")\n",
    "    plt.legend()\n",
    "    print(\"Precision Recall score for \",classifier_names[i],\" = \",(average_precision_score(Y_test,classifier_predictions[i])))\n",
    "\n",
    "\n",
    "    \n"
   ]
  },
  {
   "cell_type": "markdown",
   "metadata": {},
   "source": [
    "### Selected top features that we got fro Lasso and Random Forest and run our model"
   ]
  },
  {
   "cell_type": "code",
   "execution_count": 69,
   "metadata": {},
   "outputs": [],
   "source": [
    "features = ['aus_1','applicant_credit_score_type','loan_term','purchaser_type','property_value','loan_purpose','income','applicant_age','loan_amount','manufactured_home_land_property_interest']\n",
    "X_new = df[features]\n",
    "Y_new = df['action_taken']\n",
    "X_train_new, X_test_new, Y_train_new, Y_test_new = train_test_split(X_new, Y_new, test_size=0.25) "
   ]
  },
  {
   "cell_type": "code",
   "execution_count": 70,
   "metadata": {},
   "outputs": [],
   "source": [
    "smt = SMOTE()\n",
    "x_train_new, y_train_new = smt.fit_sample(X_train_new, Y_train_new)\n",
    "np.bincount(Y_train_new)\n",
    "np.bincount(y_train_new)\n",
    "\n",
    "sc = StandardScaler()\n",
    "x_train_new = sc.fit_transform(x_train_new)\n",
    "X_test_new = sc.transform(X_test_new)"
   ]
  },
  {
   "cell_type": "code",
   "execution_count": 71,
   "metadata": {},
   "outputs": [
    {
     "name": "stderr",
     "output_type": "stream",
     "text": [
      "//anaconda3/lib/python3.7/site-packages/sklearn/linear_model/logistic.py:432: FutureWarning: Default solver will be changed to 'lbfgs' in 0.22. Specify a solver to silence this warning.\n",
      "  FutureWarning)\n"
     ]
    }
   ],
   "source": [
    "log_reg_top = LogisticRegression()\n",
    "log_reg_top.fit(x_train_new, y_train_new)\n",
    "y_pred_log_top = log_reg_top.predict(X_test_new)\n",
    "y_pred_train_log_top = log_reg_top.predict(x_train_new)"
   ]
  },
  {
   "cell_type": "code",
   "execution_count": 72,
   "metadata": {},
   "outputs": [
    {
     "name": "stdout",
     "output_type": "stream",
     "text": [
      "Accuracy Test 0.9673655700134477\n",
      "Accuracy Train 0.9834459421881182\n"
     ]
    }
   ],
   "source": [
    "print('Accuracy Test',accuracy_score(y_pred_log_top,Y_test_new))\n",
    "print('Accuracy Train',accuracy_score(y_pred_train_log_top,y_train_new))"
   ]
  },
  {
   "cell_type": "code",
   "execution_count": 73,
   "metadata": {},
   "outputs": [
    {
     "name": "stdout",
     "output_type": "stream",
     "text": [
      "              precision    recall  f1-score   support\n",
      "\n",
      "           0       1.00      0.17      0.29     16609\n",
      "           1       0.97      1.00      0.98    405767\n",
      "\n",
      "    accuracy                           0.97    422376\n",
      "   macro avg       0.98      0.59      0.64    422376\n",
      "weighted avg       0.97      0.97      0.96    422376\n",
      "\n"
     ]
    }
   ],
   "source": [
    "print(classification_report(y_pred_log_top,Y_test_new))"
   ]
  },
  {
   "cell_type": "code",
   "execution_count": 77,
   "metadata": {},
   "outputs": [],
   "source": [
    "rand_class_top = RandomForestClassifier(n_estimators = 8,random_state=2)\n",
    "rand_class_top.fit(x_train_new, y_train_new)\n",
    "y_pred_rand_top = rand_class_top.predict(X_test_new)\n",
    "y_pred_rand_train_top = rand_class_top.predict(x_train_new)"
   ]
  },
  {
   "cell_type": "code",
   "execution_count": 78,
   "metadata": {},
   "outputs": [
    {
     "name": "stdout",
     "output_type": "stream",
     "text": [
      "Accuracy Test 0.9873382957365002\n",
      "Accuracy Train 0.9969717169566371\n"
     ]
    }
   ],
   "source": [
    "print('Accuracy Test',accuracy_score(y_pred_rand_top,Y_test_new))\n",
    "print('Accuracy Train',accuracy_score(y_pred_rand_train_top,y_train_new))"
   ]
  },
  {
   "cell_type": "code",
   "execution_count": 79,
   "metadata": {},
   "outputs": [
    {
     "name": "stdout",
     "output_type": "stream",
     "text": [
      "              precision    recall  f1-score   support\n",
      "\n",
      "           0       0.36      0.22      0.28      4553\n",
      "           1       0.99      1.00      0.99    417823\n",
      "\n",
      "    accuracy                           0.99    422376\n",
      "   macro avg       0.68      0.61      0.64    422376\n",
      "weighted avg       0.98      0.99      0.99    422376\n",
      "\n"
     ]
    }
   ],
   "source": [
    "print(classification_report(y_pred_rand_top,Y_test_new))"
   ]
  },
  {
   "cell_type": "code",
   "execution_count": 81,
   "metadata": {},
   "outputs": [
    {
     "name": "stdout",
     "output_type": "stream",
     "text": [
      "Accuracy Test 0.977141220145084\n",
      "Accuracy Train 0.9887457354560579\n",
      "              precision    recall  f1-score   support\n",
      "\n",
      "           0       0.74      0.19      0.30     11000\n",
      "           1       0.98      1.00      0.99    411376\n",
      "\n",
      "    accuracy                           0.98    422376\n",
      "   macro avg       0.86      0.59      0.65    422376\n",
      "weighted avg       0.97      0.98      0.97    422376\n",
      "\n"
     ]
    }
   ],
   "source": [
    "ada_boost_top = AdaBoostClassifier(DecisionTreeClassifier(max_depth=10),n_estimators=12)\n",
    "ada_boost_top.fit(x_train_new, y_train_new)\n",
    "y_pred_ada_top = ada_boost_top.predict(X_test_new)\n",
    "y_pred_ada_train_top = ada_boost_top.predict(x_train_new)\n",
    "print('Accuracy Test',accuracy_score(y_pred_ada_top,Y_test_new))\n",
    "print('Accuracy Train',accuracy_score(y_pred_ada_train_top,y_train_new))\n",
    "print(classification_report(y_pred_ada_top,Y_test_new))"
   ]
  },
  {
   "cell_type": "code",
   "execution_count": 85,
   "metadata": {},
   "outputs": [
    {
     "name": "stdout",
     "output_type": "stream",
     "text": [
      "Precision Recall score for  Random Forest  =  0.9956264833943154\n",
      "Precision Recall score for  Logistic Regression  =  0.9997575425387186\n",
      "Precision Recall score for  AdaBoost  =  0.998075044641125\n"
     ]
    },
    {
     "data": {
      "image/png": "[encoded data removed]",
      "text/plain": [
       "<Figure size 432x288 with 1 Axes>"
      ]
     },
     "metadata": {
      "needs_background": "light"
     },
     "output_type": "display_data"
    }
   ],
   "source": [
    "from sklearn.metrics import precision_recall_curve\n",
    "\n",
    "classifier_predictions = [y_pred_rand_top,y_pred_log_top,y_pred_ada_top]\n",
    "classifier_names = [\"Random Forest\",\"Logistic Regression\",'AdaBoost']\n",
    "\n",
    "for i in range(len(classifier_predictions)):\n",
    "    precision, recall, thresholds = precision_recall_curve(Y_test_new,classifier_predictions[i])\n",
    "    plt.plot(recall,precision,label= classifier_names[i])\n",
    "    plt.xlabel(\"Recall\")\n",
    "    plt.ylabel(\"Precision\")\n",
    "    plt.legend()\n",
    "    print(\"Precision Recall score for \",classifier_names[i],\" = \",(average_precision_score(Y_test_new,classifier_predictions[i])))\n",
    "\n"
   ]
  }
 ],
 "metadata": {
  "kernelspec": {
   "display_name": "Python 3",
   "language": "python",
   "name": "python3"
  },
  "language_info": {
   "codemirror_mode": {
    "name": "ipython",
    "version": 3
   },
   "file_extension": ".py",
   "mimetype": "text/x-python",
   "name": "python",
   "nbconvert_exporter": "python",
   "pygments_lexer": "ipython3",
   "version": "3.7.3"
  }
 },
 "nbformat": 4,
 "nbformat_minor": 2
}
