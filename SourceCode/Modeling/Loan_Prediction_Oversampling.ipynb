{
 "cells": [
  {
   "cell_type": "code",
   "execution_count": 33,
   "metadata": {},
   "outputs": [],
   "source": [
    "import pandas as pd\n",
    "import numpy as np\n",
    "from sklearn.linear_model import LogisticRegression\n",
    "from sklearn import linear_model\n",
    "from sklearn.model_selection import train_test_split\n",
    "from sklearn.metrics import confusion_matrix\n",
    "from imblearn.over_sampling import SMOTE\n",
    "from sklearn.metrics import recall_score\n",
    "from sklearn.metrics import precision_score\n",
    "from sklearn.ensemble import RandomForestClassifier\n",
    "from sklearn.metrics import accuracy_score\n",
    "from sklearn.naive_bayes import GaussianNB\n",
    "from sklearn.svm import SVC  \n",
    "from sklearn.ensemble import AdaBoostClassifier\n",
    "from sklearn.tree import DecisionTreeClassifier\n",
    "from sklearn.preprocessing import StandardScaler\n",
    "from sklearn.discriminant_analysis import LinearDiscriminantAnalysis\n",
    "from sklearn.metrics import classification_report"
   ]
  },
  {
   "cell_type": "code",
   "execution_count": 2,
   "metadata": {},
   "outputs": [],
   "source": [
    "dataset = pd.read_csv(r\"sample_clean.csv\")"
   ]
  },
  {
   "cell_type": "code",
   "execution_count": 105,
   "metadata": {},
   "outputs": [],
   "source": [
    "df=dataset.copy()"
   ]
  },
  {
   "cell_type": "code",
   "execution_count": 4,
   "metadata": {},
   "outputs": [],
   "source": [
    "X = df.drop('action_taken',axis=1)\n",
    "Y = df['action_taken']\n",
    "X_train, X_test, Y_train, Y_test = train_test_split(X, Y, test_size=0.25) "
   ]
  },
  {
   "cell_type": "code",
   "execution_count": 5,
   "metadata": {},
   "outputs": [
    {
     "data": {
      "text/plain": [
       "1    1678167\n",
       "0      11337\n",
       "Name: action_taken, dtype: int64"
      ]
     },
     "execution_count": 5,
     "metadata": {},
     "output_type": "execute_result"
    }
   ],
   "source": [
    "dataset['action_taken'].value_counts()"
   ]
  },
  {
   "cell_type": "code",
   "execution_count": 80,
   "metadata": {},
   "outputs": [
    {
     "data": {
      "image/png": "[encoded data removed]",
      "text/plain": [
       "<Figure size 432x288 with 1 Axes>"
      ]
     },
     "metadata": {
      "needs_background": "light"
     },
     "output_type": "display_data"
    }
   ],
   "source": [
    "dataset.action_taken.value_counts().plot(kind='bar', title='Count');"
   ]
  },
  {
   "cell_type": "markdown",
   "metadata": {},
   "source": [
    "### SMOTE Analysis "
   ]
  },
  {
   "cell_type": "code",
   "execution_count": 13,
   "metadata": {},
   "outputs": [
    {
     "data": {
      "text/plain": [
       "array([1258599, 1258599])"
      ]
     },
     "execution_count": 13,
     "metadata": {},
     "output_type": "execute_result"
    }
   ],
   "source": [
    "smt = SMOTE()\n",
    "x_train, y_train = smt.fit_sample(X_train, Y_train)\n",
    "np.bincount(Y_train)\n",
    "np.bincount(y_train)"
   ]
  },
  {
   "cell_type": "code",
   "execution_count": null,
   "metadata": {},
   "outputs": [],
   "source": [
    "dataset.action_taken.value_counts().plot(kind='bar', title='Count');"
   ]
  },
  {
   "cell_type": "code",
   "execution_count": 14,
   "metadata": {},
   "outputs": [],
   "source": [
    "sc = StandardScaler()\n",
    "x_train = sc.fit_transform(x_train)\n",
    "X_test = sc.transform(X_test)"
   ]
  },
  {
   "cell_type": "markdown",
   "metadata": {},
   "source": [
    "### Random Forest "
   ]
  },
  {
   "cell_type": "code",
   "execution_count": 15,
   "metadata": {},
   "outputs": [],
   "source": [
    "rand_class_smote = RandomForestClassifier(n_estimators = 8,random_state=2)\n",
    "rand_class_smote.fit(x_train, y_train)\n",
    "y_pred_smote = rand_class_smote.predict(X_test)\n",
    "y_pred_train_smote = rand_class_smote.predict(x_train)"
   ]
  },
  {
   "cell_type": "code",
   "execution_count": 98,
   "metadata": {},
   "outputs": [
    {
     "name": "stdout",
     "output_type": "stream",
     "text": [
      "Test\n",
      "Accuracy: 0.9914365399549216\n",
      "\n",
      "\n",
      "Precision of 0: 0.3374849337083166\n",
      "Precision of 1: 0.9953130246947393\n",
      "\n",
      "\n",
      "Recall of 0: 0.29914529914529914\n",
      "Recall of 1: 0.9960697669984365\n",
      "------------------------\n",
      "Train\n",
      "Accuracy: 0.9997930238304654\n"
     ]
    }
   ],
   "source": [
    "print(\"Test\")\n",
    "print('Accuracy:',accuracy_score(Y_test,y_pred_smote))\n",
    "print('\\n')\n",
    "print('Precision of 0:',precision_score(Y_test,y_pred_smote,pos_label=0))\n",
    "print('Precision of 1:',precision_score(Y_test,y_pred_smote,pos_label=1))\n",
    "print('\\n')\n",
    "print('Recall of 0:',recall_score(Y_test,y_pred_smote,pos_label=0))\n",
    "print('Recall of 1:',recall_score(Y_test,y_pred_smote,pos_label=1))\n",
    "\n",
    "print(\"------------------------\")\n",
    "print(\"Train\")\n",
    "print('Accuracy:',accuracy_score(y_train,y_pred_train_smote))\n"
   ]
  },
  {
   "cell_type": "code",
   "execution_count": 146,
   "metadata": {},
   "outputs": [
    {
     "name": "stdout",
     "output_type": "stream",
     "text": [
      "[[   840   1968]\n",
      " [  1649 417919]]\n"
     ]
    },
    {
     "data": {
      "image/png": "[encoded data removed]",
      "text/plain": [
       "<Figure size 432x288 with 2 Axes>"
      ]
     },
     "metadata": {
      "needs_background": "light"
     },
     "output_type": "display_data"
    }
   ],
   "source": [
    "conf_matrix = confusion_matrix(Y_test, y_pred_smote)\n",
    "plot_confusion_matrix(conf_matrix,cmap='tab10',colorbar=True)\n",
    "print(conf_matrix)"
   ]
  },
  {
   "cell_type": "code",
   "execution_count": 87,
   "metadata": {},
   "outputs": [
    {
     "name": "stdout",
     "output_type": "stream",
     "text": [
      "[[  2804      4]\n",
      " [ 13348 406220]]\n"
     ]
    }
   ],
   "source": [
    "print(confusion_matrix(Y_test,y_pred_log,labels=[0,1]))"
   ]
  },
  {
   "cell_type": "code",
   "execution_count": 23,
   "metadata": {},
   "outputs": [
    {
     "data": {
      "text/plain": [
       "['rand_class_smote.pkl']"
      ]
     },
     "execution_count": 23,
     "metadata": {},
     "output_type": "execute_result"
    }
   ],
   "source": [
    "# save the model to disk\n",
    "#joblib_file_random_forest = \"rand_class_smote.pkl\"\n",
    "#joblib.dump(rand_class_smote, joblib_file_random_forest)"
   ]
  },
  {
   "cell_type": "code",
   "execution_count": 34,
   "metadata": {},
   "outputs": [
    {
     "name": "stdout",
     "output_type": "stream",
     "text": [
      "              precision    recall  f1-score   support\n",
      "\n",
      "           0       0.34      0.30      0.32      2808\n",
      "           1       1.00      1.00      1.00    419568\n",
      "\n",
      "    accuracy                           0.99    422376\n",
      "   macro avg       0.67      0.65      0.66    422376\n",
      "weighted avg       0.99      0.99      0.99    422376\n",
      "\n"
     ]
    }
   ],
   "source": [
    "print(classification_report(Y_test,y_pred_smote))"
   ]
  },
  {
   "cell_type": "markdown",
   "metadata": {},
   "source": [
    "### Logistic Regression"
   ]
  },
  {
   "cell_type": "code",
   "execution_count": 17,
   "metadata": {},
   "outputs": [
    {
     "name": "stderr",
     "output_type": "stream",
     "text": [
      "//anaconda3/lib/python3.7/site-packages/sklearn/linear_model/logistic.py:432: FutureWarning: Default solver will be changed to 'lbfgs' in 0.22. Specify a solver to silence this warning.\n",
      "  FutureWarning)\n"
     ]
    }
   ],
   "source": [
    "log_reg = LogisticRegression()\n",
    "log_reg.fit(x_train, y_train)\n",
    "y_pred_log = log_reg.predict(X_test)\n",
    "y_pred_train_log = log_reg.predict(x_train)"
   ]
  },
  {
   "cell_type": "code",
   "execution_count": 99,
   "metadata": {},
   "outputs": [
    {
     "name": "stdout",
     "output_type": "stream",
     "text": [
      "Test\n",
      "Accuracy 0.968388355398981\n",
      "Precision of 0: 0.17360079247152055\n",
      "Precision of 1: 0.9999901532159596\n",
      "\n",
      "\n",
      "Recall of 0: 0.9985754985754985\n",
      "Recall of 1: 0.9681863249818862\n",
      "Recall 0.9999901532159596\n",
      "--------------------------\n",
      "Train\n",
      "Accuracy 0.9838352008860646\n"
     ]
    }
   ],
   "source": [
    "print('Test')\n",
    "print('Accuracy',accuracy_score(y_pred_log,Y_test))\n",
    "\n",
    "print('Precision of 0:',precision_score(Y_test,y_pred_log,pos_label=0))\n",
    "print('Precision of 1:',precision_score(Y_test,y_pred_log,pos_label=1))\n",
    "print('\\n')\n",
    "print('Recall of 0:',recall_score(Y_test,y_pred_log,pos_label=0))\n",
    "print('Recall of 1:',recall_score(Y_test,y_pred_log,pos_label=1))\n",
    "\n",
    "print('Recall',recall_score(y_pred_log,Y_test))\n",
    "print('--------------------------')\n",
    "print('Train')\n",
    "print('Accuracy',accuracy_score(y_pred_train_log,y_train))"
   ]
  },
  {
   "cell_type": "code",
   "execution_count": 148,
   "metadata": {},
   "outputs": [
    {
     "name": "stdout",
     "output_type": "stream",
     "text": [
      "[[  2804      4]\n",
      " [ 13348 406220]]\n"
     ]
    },
    {
     "data": {
      "image/png": "[encoded data removed]",
      "text/plain": [
       "<Figure size 432x288 with 2 Axes>"
      ]
     },
     "metadata": {
      "needs_background": "light"
     },
     "output_type": "display_data"
    }
   ],
   "source": [
    "conf_matrix = confusion_matrix(Y_test, y_pred_log)\n",
    "plot_confusion_matrix(conf_matrix,cmap='tab10',colorbar=True)\n",
    "print(conf_matrix)"
   ]
  },
  {
   "cell_type": "code",
   "execution_count": 24,
   "metadata": {},
   "outputs": [
    {
     "data": {
      "text/plain": [
       "['log_reg.pkl']"
      ]
     },
     "execution_count": 24,
     "metadata": {},
     "output_type": "execute_result"
    }
   ],
   "source": [
    "# save the model to disk\n",
    "#joblib_file_logistic = \"log_reg.pkl\"\n",
    "#joblib.dump(log_reg, joblib_file_logistic)"
   ]
  },
  {
   "cell_type": "code",
   "execution_count": 35,
   "metadata": {},
   "outputs": [
    {
     "name": "stdout",
     "output_type": "stream",
     "text": [
      "              precision    recall  f1-score   support\n",
      "\n",
      "           0       0.17      1.00      0.30      2808\n",
      "           1       1.00      0.97      0.98    419568\n",
      "\n",
      "    accuracy                           0.97    422376\n",
      "   macro avg       0.59      0.98      0.64    422376\n",
      "weighted avg       0.99      0.97      0.98    422376\n",
      "\n"
     ]
    }
   ],
   "source": [
    "print(classification_report(Y_test,y_pred_log))"
   ]
  },
  {
   "cell_type": "markdown",
   "metadata": {},
   "source": [
    "### Naive Bayes"
   ]
  },
  {
   "cell_type": "code",
   "execution_count": 19,
   "metadata": {},
   "outputs": [],
   "source": [
    "naive_bayes = GaussianNB()\n",
    "naive_bayes.fit(x_train,y_train)\n",
    "y_pred_naive = naive_bayes.predict(X_test)\n",
    "y_pred_train_naive = naive_bayes.predict(x_train)"
   ]
  },
  {
   "cell_type": "code",
   "execution_count": 100,
   "metadata": {},
   "outputs": [
    {
     "name": "stdout",
     "output_type": "stream",
     "text": [
      "Test\n",
      "Accuracy 0.9700669545618122\n",
      "Precision of 0: 0.17861577674661785\n",
      "Precision of 1: 0.9998157587668121\n",
      "\n",
      "\n",
      "Recall of 0: 0.9732905982905983\n",
      "Recall of 1: 0.9700453800099149\n",
      "--------------------------\n",
      "Train\n",
      "Accuracy 0.9784530259439266\n"
     ]
    }
   ],
   "source": [
    "print('Test')\n",
    "print('Accuracy',accuracy_score(y_pred_naive,Y_test))\n",
    "print('Precision of 0:',precision_score(Y_test,y_pred_naive,pos_label=0))\n",
    "print('Precision of 1:',precision_score(Y_test,y_pred_naive,pos_label=1))\n",
    "print('\\n')\n",
    "print('Recall of 0:',recall_score(Y_test,y_pred_naive,pos_label=0))\n",
    "print('Recall of 1:',recall_score(Y_test,y_pred_naive,pos_label=1))\n",
    "\n",
    "print('--------------------------')\n",
    "print('Train')\n",
    "print('Accuracy',accuracy_score(y_pred_train_naive,y_train))"
   ]
  },
  {
   "cell_type": "code",
   "execution_count": 149,
   "metadata": {},
   "outputs": [
    {
     "name": "stdout",
     "output_type": "stream",
     "text": [
      "[[  2733     75]\n",
      " [ 12568 407000]]\n"
     ]
    },
    {
     "data": {
      "image/png": "[encoded data removed]",
      "text/plain": [
       "<Figure size 432x288 with 2 Axes>"
      ]
     },
     "metadata": {
      "needs_background": "light"
     },
     "output_type": "display_data"
    }
   ],
   "source": [
    "conf_matrix = confusion_matrix(Y_test, y_pred_naive)\n",
    "plot_confusion_matrix(conf_matrix,cmap='tab10',colorbar=True)\n",
    "print(conf_matrix)"
   ]
  },
  {
   "cell_type": "code",
   "execution_count": 25,
   "metadata": {},
   "outputs": [
    {
     "data": {
      "text/plain": [
       "['naive_bayes.pkl']"
      ]
     },
     "execution_count": 25,
     "metadata": {},
     "output_type": "execute_result"
    }
   ],
   "source": [
    "# save the model to disk\n",
    "#joblib_file_naive_bayes = \"naive_bayes.pkl\"\n",
    "#joblib.dump(naive_bayes, joblib_file_naive_bayes)"
   ]
  },
  {
   "cell_type": "code",
   "execution_count": 36,
   "metadata": {},
   "outputs": [
    {
     "name": "stdout",
     "output_type": "stream",
     "text": [
      "              precision    recall  f1-score   support\n",
      "\n",
      "           0       0.18      0.97      0.30      2808\n",
      "           1       1.00      0.97      0.98    419568\n",
      "\n",
      "    accuracy                           0.97    422376\n",
      "   macro avg       0.59      0.97      0.64    422376\n",
      "weighted avg       0.99      0.97      0.98    422376\n",
      "\n"
     ]
    }
   ],
   "source": [
    "print(classification_report(Y_test,y_pred_naive))"
   ]
  },
  {
   "cell_type": "markdown",
   "metadata": {},
   "source": [
    "### LDA"
   ]
  },
  {
   "cell_type": "code",
   "execution_count": 21,
   "metadata": {},
   "outputs": [
    {
     "name": "stderr",
     "output_type": "stream",
     "text": [
      "//anaconda3/lib/python3.7/site-packages/sklearn/discriminant_analysis.py:388: UserWarning: Variables are collinear.\n",
      "  warnings.warn(\"Variables are collinear.\")\n"
     ]
    }
   ],
   "source": [
    "lda = LinearDiscriminantAnalysis()\n",
    "lda.fit(x_train,y_train)\n",
    "y_pred_lda = lda.predict(X_test)\n",
    "y_pred_train_lda = lda.predict(x_train)"
   ]
  },
  {
   "cell_type": "code",
   "execution_count": 101,
   "metadata": {},
   "outputs": [
    {
     "name": "stdout",
     "output_type": "stream",
     "text": [
      "Test\n",
      "Accuracy 0.9582812470405515\n",
      "Precision of 0: 0.1373096322413202\n",
      "Precision of 1: 0.9999900486372852\n",
      "\n",
      "\n",
      "Recall of 0: 0.9985754985754985\n",
      "Recall of 1: 0.9580115738092514\n",
      "--------------------------\n",
      "Train\n",
      "Accuracy 0.9786516595039405\n"
     ]
    }
   ],
   "source": [
    "print('Test')\n",
    "print('Accuracy',accuracy_score(y_pred_lda,Y_test))\n",
    "print('Precision of 0:',precision_score(Y_test,y_pred_lda,pos_label=0))\n",
    "print('Precision of 1:',precision_score(Y_test,y_pred_lda,pos_label=1))\n",
    "print('\\n')\n",
    "print('Recall of 0:',recall_score(Y_test,y_pred_lda,pos_label=0))\n",
    "print('Recall of 1:',recall_score(Y_test,y_pred_lda,pos_label=1))\n",
    "\n",
    "print('--------------------------')\n",
    "print('Train')\n",
    "print('Accuracy',accuracy_score(y_pred_train_lda,y_train))"
   ]
  },
  {
   "cell_type": "code",
   "execution_count": 150,
   "metadata": {},
   "outputs": [
    {
     "name": "stdout",
     "output_type": "stream",
     "text": [
      "[[  2804      4]\n",
      " [ 17617 401951]]\n"
     ]
    },
    {
     "data": {
      "image/png": "[encoded data removed]",
      "text/plain": [
       "<Figure size 432x288 with 2 Axes>"
      ]
     },
     "metadata": {
      "needs_background": "light"
     },
     "output_type": "display_data"
    }
   ],
   "source": [
    "conf_matrix = confusion_matrix(Y_test, y_pred_lda)\n",
    "plot_confusion_matrix(conf_matrix,cmap='tab10',colorbar=True)\n",
    "print(conf_matrix)"
   ]
  },
  {
   "cell_type": "code",
   "execution_count": 37,
   "metadata": {},
   "outputs": [
    {
     "name": "stdout",
     "output_type": "stream",
     "text": [
      "              precision    recall  f1-score   support\n",
      "\n",
      "           0       0.14      1.00      0.24      2808\n",
      "           1       1.00      0.96      0.98    419568\n",
      "\n",
      "    accuracy                           0.96    422376\n",
      "   macro avg       0.57      0.98      0.61    422376\n",
      "weighted avg       0.99      0.96      0.97    422376\n",
      "\n"
     ]
    }
   ],
   "source": [
    "print(classification_report(Y_test,y_pred_lda))"
   ]
  },
  {
   "cell_type": "code",
   "execution_count": 26,
   "metadata": {},
   "outputs": [
    {
     "data": {
      "text/plain": [
       "['lda.pkl']"
      ]
     },
     "execution_count": 26,
     "metadata": {},
     "output_type": "execute_result"
    }
   ],
   "source": [
    "# save the model to disk\n",
    "#joblib_file_lda = \"lda.pkl\"\n",
    "#joblib.dump(lda, joblib_file_lda)"
   ]
  },
  {
   "cell_type": "markdown",
   "metadata": {},
   "source": [
    "### XG Boost"
   ]
  },
  {
   "cell_type": "code",
   "execution_count": 38,
   "metadata": {},
   "outputs": [],
   "source": [
    "from xgboost import XGBClassifier\n",
    "\n",
    "xg_boost = XGBClassifier()\n",
    "xg_boost.fit(x_train,y_train)\n",
    "y_pred_xg = xg_boost.predict(X_test)\n",
    "y_pred_xg_train = xg_boost.predict(x_train)"
   ]
  },
  {
   "cell_type": "code",
   "execution_count": 102,
   "metadata": {},
   "outputs": [
    {
     "name": "stdout",
     "output_type": "stream",
     "text": [
      "Accuracy test 0.9787085440460632\n",
      "Precision of 0: 0.21806910383808917\n",
      "Precision of 1: 0.9989888358729919\n",
      "\n",
      "\n",
      "Recall of 0: 0.8518518518518519\n",
      "Recall of 1: 0.9795575449033291\n",
      "Recall 0.9989888358729919\n",
      "Accuracy Train 0.9889297544333024\n"
     ]
    }
   ],
   "source": [
    "print('Accuracy test',accuracy_score(y_pred_xg,Y_test))\n",
    "print('Precision of 0:',precision_score(Y_test,y_pred_xg,pos_label=0))\n",
    "print('Precision of 1:',precision_score(Y_test,y_pred_xg,pos_label=1))\n",
    "print('\\n')\n",
    "print('Recall of 0:',recall_score(Y_test,y_pred_xg,pos_label=0))\n",
    "print('Recall of 1:',recall_score(Y_test,y_pred_xg,pos_label=1))\n",
    "\n",
    "print('Recall',recall_score(y_pred_xg,Y_test))\n",
    "print('Accuracy Train',accuracy_score(y_pred_xg_train,y_train))"
   ]
  },
  {
   "cell_type": "code",
   "execution_count": 151,
   "metadata": {},
   "outputs": [
    {
     "name": "stdout",
     "output_type": "stream",
     "text": [
      "[[  2392    416]\n",
      " [  8577 410991]]\n"
     ]
    },
    {
     "data": {
      "image/png": "[encoded data removed]",
      "text/plain": [
       "<Figure size 432x288 with 2 Axes>"
      ]
     },
     "metadata": {
      "needs_background": "light"
     },
     "output_type": "display_data"
    }
   ],
   "source": [
    "conf_matrix = confusion_matrix(Y_test, y_pred_xg)\n",
    "plot_confusion_matrix(conf_matrix,cmap='tab10',colorbar=True)\n",
    "print(conf_matrix)"
   ]
  },
  {
   "cell_type": "code",
   "execution_count": 41,
   "metadata": {},
   "outputs": [
    {
     "data": {
      "text/plain": [
       "['xgboost.pkl']"
      ]
     },
     "execution_count": 41,
     "metadata": {},
     "output_type": "execute_result"
    }
   ],
   "source": [
    "# save the model to disk\n",
    "#joblib_file_xgboost = \"xgboost.pkl\"\n",
    "#joblib.dump(xg_boost, joblib_file_xgboost)"
   ]
  },
  {
   "cell_type": "code",
   "execution_count": 42,
   "metadata": {},
   "outputs": [
    {
     "name": "stdout",
     "output_type": "stream",
     "text": [
      "              precision    recall  f1-score   support\n",
      "\n",
      "           0       0.22      0.85      0.35      2808\n",
      "           1       1.00      0.98      0.99    419568\n",
      "\n",
      "    accuracy                           0.98    422376\n",
      "   macro avg       0.61      0.92      0.67    422376\n",
      "weighted avg       0.99      0.98      0.98    422376\n",
      "\n"
     ]
    }
   ],
   "source": [
    "print(classification_report(Y_test,y_pred_xg))"
   ]
  },
  {
   "cell_type": "markdown",
   "metadata": {},
   "source": [
    "### Adaboost"
   ]
  },
  {
   "cell_type": "code",
   "execution_count": 43,
   "metadata": {},
   "outputs": [],
   "source": [
    "ada_boost = AdaBoostClassifier(DecisionTreeClassifier(max_depth=10),n_estimators=12)\n",
    "ada_boost.fit(x_train, y_train)\n",
    "y_pred_ada = ada_boost.predict(X_test)\n",
    "y_pred_ada_train = ada_boost.predict(x_train)"
   ]
  },
  {
   "cell_type": "code",
   "execution_count": 103,
   "metadata": {},
   "outputs": [
    {
     "name": "stdout",
     "output_type": "stream",
     "text": [
      "Test\n",
      "Accuracy test 0.991273178400288\n",
      "Precision of 0: 0.3267561168113654\n",
      "Precision of 1: 0.9952839401489132\n",
      "\n",
      "\n",
      "Recall of 0: 0.2948717948717949\n",
      "Recall of 1: 0.9959339129771575\n",
      "--------------------------\n",
      "Train\n",
      "Accuracy 0.9975611771501487\n"
     ]
    }
   ],
   "source": [
    "print('Test')\n",
    "print('Accuracy test',accuracy_score(y_pred_ada,Y_test))\n",
    "print('Precision of 0:',precision_score(Y_test,y_pred_ada,pos_label=0))\n",
    "print('Precision of 1:',precision_score(Y_test,y_pred_ada,pos_label=1))\n",
    "print('\\n')\n",
    "print('Recall of 0:',recall_score(Y_test,y_pred_ada,pos_label=0))\n",
    "print('Recall of 1:',recall_score(Y_test,y_pred_ada,pos_label=1))\n",
    "\n",
    "print('--------------------------')\n",
    "print('Train')\n",
    "print('Accuracy',accuracy_score(y_pred_ada_train,y_train))"
   ]
  },
  {
   "cell_type": "code",
   "execution_count": 152,
   "metadata": {},
   "outputs": [
    {
     "name": "stdout",
     "output_type": "stream",
     "text": [
      "[[   828   1980]\n",
      " [  1706 417862]]\n"
     ]
    },
    {
     "data": {
      "image/png": "[encoded data removed]",
      "text/plain": [
       "<Figure size 432x288 with 2 Axes>"
      ]
     },
     "metadata": {
      "needs_background": "light"
     },
     "output_type": "display_data"
    }
   ],
   "source": [
    "conf_matrix = confusion_matrix(Y_test, y_pred_ada)\n",
    "plot_confusion_matrix(conf_matrix,cmap='tab10',colorbar=True)\n",
    "print(conf_matrix)"
   ]
  },
  {
   "cell_type": "code",
   "execution_count": 45,
   "metadata": {},
   "outputs": [
    {
     "data": {
      "text/plain": [
       "['adaboost.pkl']"
      ]
     },
     "execution_count": 45,
     "metadata": {},
     "output_type": "execute_result"
    }
   ],
   "source": [
    "#joblib_file_adaboost = \"adaboost.pkl\"\n",
    "#joblib.dump(ada_boost, joblib_file_adaboost)"
   ]
  },
  {
   "cell_type": "code",
   "execution_count": 47,
   "metadata": {},
   "outputs": [
    {
     "name": "stdout",
     "output_type": "stream",
     "text": [
      "              precision    recall  f1-score   support\n",
      "\n",
      "           0       0.33      0.29      0.31      2808\n",
      "           1       1.00      1.00      1.00    419568\n",
      "\n",
      "    accuracy                           0.99    422376\n",
      "   macro avg       0.66      0.65      0.65    422376\n",
      "weighted avg       0.99      0.99      0.99    422376\n",
      "\n"
     ]
    }
   ],
   "source": [
    "print(classification_report(Y_test,y_pred_ada))"
   ]
  },
  {
   "cell_type": "code",
   "execution_count": 46,
   "metadata": {},
   "outputs": [
    {
     "name": "stdout",
     "output_type": "stream",
     "text": [
      "AUC for  Random Forest  =  0.6476075330718678\n",
      "AUC for  Logistic Regression  =  0.9833809117786922\n",
      "AUC for  Naive Bayes  =  0.9716679891502567\n",
      "AUC for  LDA  =  0.9782935361923749\n",
      "AUC for  XGBoost  =  0.9157046983775905\n",
      "AUC for  AdaBoost  =  0.645402853924476\n"
     ]
    },
    {
     "data": {
      "image/png": "[encoded data removed]",
      "text/plain": [
       "<Figure size 432x288 with 1 Axes>"
      ]
     },
     "metadata": {
      "needs_background": "light"
     },
     "output_type": "display_data"
    }
   ],
   "source": [
    "from sklearn.metrics import roc_curve, auc\n",
    "import matplotlib.pyplot as plt\n",
    "\n",
    "classifier_predictions = [y_pred_smote,y_pred_log,y_pred_naive,y_pred_lda,y_pred_xg,y_pred_ada]\n",
    "classifier_names = [\"Random Forest\",\"Logistic Regression\",'Naive Bayes','LDA','XGBoost','AdaBoost']\n",
    "for i in range(len(classifier_predictions)):\n",
    "    fpr,tpr,thresholds = roc_curve(Y_test,classifier_predictions[i])\n",
    "    plt.plot(fpr,tpr,label= classifier_names[i])\n",
    "    plt.xlabel(\"False Positive Rate(FPR)\")\n",
    "    plt.ylabel(\"True Positive Rate(TPR)\")\n",
    "    plt.legend()\n",
    "    print(\"AUC for \",classifier_names[i],\" = \",auc(fpr,tpr))\n"
   ]
  },
  {
   "cell_type": "code",
   "execution_count": 86,
   "metadata": {},
   "outputs": [
    {
     "name": "stdout",
     "output_type": "stream",
     "text": [
      "Precision Recall score for  Random Forest  =  0.9953053169980692\n",
      "Precision Recall score for  Logistic Regression  =  0.999778965826201\n",
      "Precision Recall score for  Naive Bayes  =  0.9996221361838308\n",
      "Precision Recall score for  LDA  =  0.9997113230129927\n",
      "Precision Recall score for  XGBoost  =  0.9988736029621913\n",
      "Precision Recall score for  AdaBoost  =  0.9952760842851813\n"
     ]
    },
    {
     "data": {
      "image/png": "[encoded data removed]",
      "text/plain": [
       "<Figure size 432x288 with 1 Axes>"
      ]
     },
     "metadata": {
      "needs_background": "light"
     },
     "output_type": "display_data"
    }
   ],
   "source": [
    "from sklearn.metrics import precision_recall_curve\n",
    "\n",
    "classifier_predictions = [y_pred_smote,y_pred_log,y_pred_naive,y_pred_lda,y_pred_xg,y_pred_ada]\n",
    "classifier_names = [\"Random Forest\",\"Logistic Regression\",'Naive Bayes','LDA','XGBoost','AdaBoost']\n",
    "\n",
    "for i in range(len(classifier_predictions)):\n",
    "    precision, recall, thresholds = precision_recall_curve(Y_test,classifier_predictions[i])\n",
    "    plt.plot(recall,precision,label= classifier_names[i])\n",
    "    plt.xlabel(\"Recall\")\n",
    "    plt.ylabel(\"Precision\")\n",
    "    plt.legend()\n",
    "    print(\"Precision Recall score for \",classifier_names[i],\" = \",(average_precision_score(Y_test,classifier_predictions[i])))\n"
   ]
  },
  {
   "cell_type": "markdown",
   "metadata": {},
   "source": [
    "### Selected top features that we got from Lasso and Random Forest and run our model"
   ]
  },
  {
   "cell_type": "code",
   "execution_count": 69,
   "metadata": {},
   "outputs": [],
   "source": [
    "features = ['aus_1','applicant_credit_score_type','loan_term','purchaser_type','property_value','loan_purpose','income','applicant_age','loan_amount','manufactured_home_land_property_interest']\n",
    "X_new = df[features]\n",
    "Y_new = df['action_taken']\n",
    "X_train_new, X_test_new, Y_train_new, Y_test_new = train_test_split(X_new, Y_new, test_size=0.25) "
   ]
  },
  {
   "cell_type": "code",
   "execution_count": 70,
   "metadata": {},
   "outputs": [],
   "source": [
    "smt = SMOTE()\n",
    "x_train_new, y_train_new = smt.fit_sample(X_train_new, Y_train_new)\n",
    "np.bincount(Y_train_new)\n",
    "np.bincount(y_train_new)\n",
    "\n",
    "sc = StandardScaler()\n",
    "x_train_new = sc.fit_transform(x_train_new)\n",
    "X_test_new = sc.transform(X_test_new)"
   ]
  },
  {
   "cell_type": "code",
   "execution_count": 71,
   "metadata": {},
   "outputs": [
    {
     "name": "stderr",
     "output_type": "stream",
     "text": [
      "//anaconda3/lib/python3.7/site-packages/sklearn/linear_model/logistic.py:432: FutureWarning: Default solver will be changed to 'lbfgs' in 0.22. Specify a solver to silence this warning.\n",
      "  FutureWarning)\n"
     ]
    }
   ],
   "source": [
    "log_reg_top = LogisticRegression()\n",
    "log_reg_top.fit(x_train_new, y_train_new)\n",
    "y_pred_log_top = log_reg_top.predict(X_test_new)\n",
    "y_pred_train_log_top = log_reg_top.predict(x_train_new)"
   ]
  },
  {
   "cell_type": "code",
   "execution_count": 72,
   "metadata": {},
   "outputs": [
    {
     "name": "stdout",
     "output_type": "stream",
     "text": [
      "Accuracy Test 0.9673655700134477\n",
      "Accuracy Train 0.9834459421881182\n"
     ]
    }
   ],
   "source": [
    "print('Accuracy Test',accuracy_score(y_pred_log_top,Y_test_new))\n",
    "print('Accuracy Train',accuracy_score(y_pred_train_log_top,y_train_new))"
   ]
  },
  {
   "cell_type": "code",
   "execution_count": 73,
   "metadata": {},
   "outputs": [
    {
     "name": "stdout",
     "output_type": "stream",
     "text": [
      "              precision    recall  f1-score   support\n",
      "\n",
      "           0       1.00      0.17      0.29     16609\n",
      "           1       0.97      1.00      0.98    405767\n",
      "\n",
      "    accuracy                           0.97    422376\n",
      "   macro avg       0.98      0.59      0.64    422376\n",
      "weighted avg       0.97      0.97      0.96    422376\n",
      "\n"
     ]
    }
   ],
   "source": [
    "print(classification_report(y_pred_log_top,Y_test_new))"
   ]
  },
  {
   "cell_type": "code",
   "execution_count": 77,
   "metadata": {},
   "outputs": [],
   "source": [
    "rand_class_top = RandomForestClassifier(n_estimators = 8,random_state=2)\n",
    "rand_class_top.fit(x_train_new, y_train_new)\n",
    "y_pred_rand_top = rand_class_top.predict(X_test_new)\n",
    "y_pred_rand_train_top = rand_class_top.predict(x_train_new)"
   ]
  },
  {
   "cell_type": "code",
   "execution_count": 78,
   "metadata": {},
   "outputs": [
    {
     "name": "stdout",
     "output_type": "stream",
     "text": [
      "Accuracy Test 0.9873382957365002\n",
      "Accuracy Train 0.9969717169566371\n"
     ]
    }
   ],
   "source": [
    "print('Accuracy Test',accuracy_score(y_pred_rand_top,Y_test_new))\n",
    "print('Accuracy Train',accuracy_score(y_pred_rand_train_top,y_train_new))"
   ]
  },
  {
   "cell_type": "code",
   "execution_count": 79,
   "metadata": {},
   "outputs": [
    {
     "name": "stdout",
     "output_type": "stream",
     "text": [
      "              precision    recall  f1-score   support\n",
      "\n",
      "           0       0.36      0.22      0.28      4553\n",
      "           1       0.99      1.00      0.99    417823\n",
      "\n",
      "    accuracy                           0.99    422376\n",
      "   macro avg       0.68      0.61      0.64    422376\n",
      "weighted avg       0.98      0.99      0.99    422376\n",
      "\n"
     ]
    }
   ],
   "source": [
    "print(classification_report(y_pred_rand_top,Y_test_new))"
   ]
  },
  {
   "cell_type": "code",
   "execution_count": 81,
   "metadata": {},
   "outputs": [
    {
     "name": "stdout",
     "output_type": "stream",
     "text": [
      "Accuracy Test 0.977141220145084\n",
      "Accuracy Train 0.9887457354560579\n",
      "              precision    recall  f1-score   support\n",
      "\n",
      "           0       0.74      0.19      0.30     11000\n",
      "           1       0.98      1.00      0.99    411376\n",
      "\n",
      "    accuracy                           0.98    422376\n",
      "   macro avg       0.86      0.59      0.65    422376\n",
      "weighted avg       0.97      0.98      0.97    422376\n",
      "\n"
     ]
    }
   ],
   "source": [
    "ada_boost_top = AdaBoostClassifier(DecisionTreeClassifier(max_depth=10),n_estimators=12)\n",
    "ada_boost_top.fit(x_train_new, y_train_new)\n",
    "y_pred_ada_top = ada_boost_top.predict(X_test_new)\n",
    "y_pred_ada_train_top = ada_boost_top.predict(x_train_new)\n",
    "print('Accuracy Test',accuracy_score(y_pred_ada_top,Y_test_new))\n",
    "print('Accuracy Train',accuracy_score(y_pred_ada_train_top,y_train_new))\n",
    "print(classification_report(y_pred_ada_top,Y_test_new))"
   ]
  },
  {
   "cell_type": "code",
   "execution_count": 85,
   "metadata": {},
   "outputs": [
    {
     "name": "stdout",
     "output_type": "stream",
     "text": [
      "Precision Recall score for  Random Forest  =  0.9956264833943154\n",
      "Precision Recall score for  Logistic Regression  =  0.9997575425387186\n",
      "Precision Recall score for  AdaBoost  =  0.998075044641125\n"
     ]
    },
    {
     "data": {
      "image/png": "[encoded data removed]",
      "text/plain": [
       "<Figure size 432x288 with 1 Axes>"
      ]
     },
     "metadata": {
      "needs_background": "light"
     },
     "output_type": "display_data"
    }
   ],
   "source": [
    "from sklearn.metrics import precision_recall_curve\n",
    "\n",
    "classifier_predictions = [y_pred_rand_top,y_pred_log_top,y_pred_ada_top]\n",
    "classifier_names = [\"Random Forest\",\"Logistic Regression\",'AdaBoost']\n",
    "\n",
    "for i in range(len(classifier_predictions)):\n",
    "    precision, recall, thresholds = precision_recall_curve(Y_test_new,classifier_predictions[i])\n",
    "    plt.plot(recall,precision,label= classifier_names[i])\n",
    "    plt.xlabel(\"Recall\")\n",
    "    plt.ylabel(\"Precision\")\n",
    "    plt.legend()\n",
    "    print(\"Precision Recall score for \",classifier_names[i],\" = \",(average_precision_score(Y_test_new,classifier_predictions[i])))\n",
    "\n"
   ]
  }
 ],
 "metadata": {
  "kernelspec": {
   "display_name": "Python 3",
   "language": "python",
   "name": "python3"
  },
  "language_info": {
   "codemirror_mode": {
    "name": "ipython",
    "version": 3
   },
   "file_extension": ".py",
   "mimetype": "text/x-python",
   "name": "python",
   "nbconvert_exporter": "python",
   "pygments_lexer": "ipython3",
   "version": "3.7.3"
  }
 },
 "nbformat": 4,
 "nbformat_minor": 2
}
